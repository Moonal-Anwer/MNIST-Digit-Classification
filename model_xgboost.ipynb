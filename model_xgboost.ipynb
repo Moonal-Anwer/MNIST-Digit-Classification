{
 "cells": [
  {
   "cell_type": "markdown",
   "id": "56360fbb",
   "metadata": {},
   "source": [
    "Building a model using XGboost "
   ]
  },
  {
   "cell_type": "code",
   "execution_count": null,
   "id": "cdc6586c",
   "metadata": {},
   "outputs": [],
   "source": [
    "import xgboost as xg"
   ]
  },
  {
   "cell_type": "code",
   "execution_count": null,
   "id": "93cd2446",
   "metadata": {},
   "outputs": [],
   "source": [
    "# default without tuning \n",
    "\n",
    "from sklearn.metrics import accuracy_score\n",
    "xg_model0=xg.XGBClassifier(objective='multi:softmax', num_class=10, use_label_encoder=False, eval_metric='mlogloss', random_state=42)\n",
    "xg_model0.fit(x_test,y_test)\n",
    "y_pred=xg_model0.fit(x_test)\n",
    "\n",
    "accuracy0 = accuracy_score(y_pred,y_test)\n",
    "print(f\"accuracy score is {accuracy0:.2f}\")"
   ]
  },
  {
   "cell_type": "code",
   "execution_count": null,
   "id": "dbe3ac8d",
   "metadata": {},
   "outputs": [],
   "source": [
    "# Hyper-parameters tuning\n",
    "\n",
    "from sklearn.model_selection import RandomizedSearchCV\n",
    "param_grid={\n",
    "    'n_estimators':[100,200,300],\n",
    "    'max_depth':[3,5,7,10],\n",
    "    'learning_rate':[0.01,0.1,0.2],\n",
    "    'gamma':[0,3,5,7,10],\n",
    "    'min_child_weight':[1,3,5,7,10],\n",
    "    'subsample':[0.5,0.7,1.0],\n",
    "    'colsample_bytree':[0.5,0.7,1.0],\n",
    "    'reg_alpha':[0,0.01,0.1,1.0,10.0],\n",
    "    'reg_lambda':[0,0.5,1.0,10]\n",
    "    \n",
    "}\n",
    "xg_model=xg.XGBClassifier(random_state=42)\n",
    "\n",
    "grid_search = RandomizedSearchCV(xg_model, param_grid,cv=10,scoring=\"accuracy\",n_iter=100,n_jobs=-1,verbose=2)\n",
    "grid_search.fit(x_train,y_train)\n",
    "best_xg=grid_search.best_estimator_\n",
    "\n",
    "print(\"best parameters : \",grid_search.best_params_)\n",
    "print(\"best accuracy: \", grid_search.best_score_)"
   ]
  },
  {
   "cell_type": "code",
   "execution_count": null,
   "id": "7d60e310",
   "metadata": {},
   "outputs": [],
   "source": [
    "\n",
    "y_pred=best_xg.predict(x_test)"
   ]
  },
  {
   "cell_type": "code",
   "execution_count": null,
   "id": "b21e244b",
   "metadata": {},
   "outputs": [],
   "source": [
    "# evaluation \n",
    "from sklearn.metrics import precision_score , confusion_matrix, classification_report\n",
    "import seaborn as sns\n",
    "import matplotlib.pyplot as plt\n",
    "\n",
    "\n"
   ]
  },
  {
   "cell_type": "code",
   "execution_count": null,
   "id": "7e426cdf",
   "metadata": {},
   "outputs": [],
   "source": [
    "percision = precision_score(y_pred,y_test)\n",
    "print(f\"precision score is {percision:.2f}\")\n",
    "\n"
   ]
  },
  {
   "cell_type": "code",
   "execution_count": null,
   "id": "cd84057e",
   "metadata": {},
   "outputs": [],
   "source": [
    "confusionMatrix=confusion_matrix(y_pred,y_test)\n",
    "sns.heatmap(confusionMatrix,cmap='Blues')\n",
    "plt.xlabel(\"predicted\")\n",
    "plt.ylabel(\"actual\")\n",
    "plt.title(\"confusion matrix\")\n",
    "plt.show()\n"
   ]
  },
  {
   "cell_type": "code",
   "execution_count": null,
   "id": "9cd30758",
   "metadata": {},
   "outputs": [],
   "source": [
    "classR=classification_report(y_pred,y_test)\n",
    "print(\"classification report: \",classR)"
   ]
  }
 ],
 "metadata": {
  "kernelspec": {
   "display_name": "tf-env",
   "language": "python",
   "name": "python3"
  },
  "language_info": {
   "codemirror_mode": {
    "name": "ipython",
    "version": 3
   },
   "file_extension": ".py",
   "mimetype": "text/x-python",
   "name": "python",
   "nbconvert_exporter": "python",
   "pygments_lexer": "ipython3",
   "version": "3.11.9"
  }
 },
 "nbformat": 4,
 "nbformat_minor": 5
}
