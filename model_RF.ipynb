{
 "cells": [
  {
   "cell_type": "markdown",
   "id": "9060d03f",
   "metadata": {},
   "source": [
    "Buliding a model using Random Forest "
   ]
  },
  {
   "cell_type": "code",
   "execution_count": 4,
   "id": "53293d03",
   "metadata": {},
   "outputs": [],
   "source": [
    "from sklearn.ensemble import RandomForestClassifier"
   ]
  },
  {
   "cell_type": "code",
   "execution_count": null,
   "id": "80b505b3",
   "metadata": {},
   "outputs": [],
   "source": [
    "# default without tuning \n",
    "from sklearn.metrics import accuracy_score\n",
    "rf_model0=RandomForestClassifier(n_estimators=100,random_state=42)\n",
    "rf_model0.fit(x_train,y_train)\n",
    "\n",
    "\n",
    "y_pred=rf_model0.predict(x_test)\n",
    "\n",
    "score0= accuracy_score(y_pred,y_test)\n",
    "print(f\"accuracy score is {accuracy0:.2f}\")\n"
   ]
  },
  {
   "cell_type": "code",
   "execution_count": null,
   "id": "199784bc",
   "metadata": {},
   "outputs": [],
   "source": [
    "# Hyper-parameters tuning\n",
    "\n",
    "from sklearn.model_selection import RandomizedSearchCV\n",
    "\n",
    "param_grid={\n",
    "    'n_estimators':[100,200,300],\n",
    "    'criterion':[\"gini\",\"entropy\",\"log_loss\"],\n",
    "    'min_samples_leaf':[1,2,4],\n",
    "    'max_depth':[5,7,10,20],\n",
    "    'max_features':[\"sqrt\",\"log2\",None],\n",
    "    'bootstrap':[True,False]\n",
    "    \n",
    "}\n",
    "rf_model=RandomForestClassifier(random_state=42)\n",
    "\n",
    "grid_search = RandomizedSearchCV(rf_model, param_grid,cv=10,scoring=\"accuracy\",n_iter=100,n_jobs=-1,verbose=2)\n",
    "grid_search.fit(x_train,y_train)\n",
    "best_rf=grid_search.best_estimator_\n",
    "\n",
    "print(\"best parameters : \",grid_search.best_params_)\n",
    "print(\"best accuracy: \", grid_search.best_score_)"
   ]
  },
  {
   "cell_type": "code",
   "execution_count": 5,
   "id": "1f60e0fa",
   "metadata": {},
   "outputs": [],
   "source": [
    "# evaluation \n",
    "from sklearn.metrics import precision_score , confusion_matrix, classification_report\n",
    "import seaborn as sns\n",
    "import matplotlib.pyplot as plt"
   ]
  },
  {
   "cell_type": "code",
   "execution_count": null,
   "id": "35d36d2e",
   "metadata": {},
   "outputs": [],
   "source": [
    "percision = precision_score(y_pred,y_test)\n",
    "print(f\"precision score is {percision:.2f}\")"
   ]
  },
  {
   "cell_type": "code",
   "execution_count": null,
   "id": "6ec16985",
   "metadata": {},
   "outputs": [],
   "source": [
    "confusionMatrix=confusion_matrix(y_pred,y_test)\n",
    "sns.heatmap(confusionMatrix,cmap='Blues')\n",
    "plt.xlabel(\"predicted\")\n",
    "plt.ylabel(\"actual\")\n",
    "plt.title(\"confusion matrix\")\n",
    "plt.show()"
   ]
  },
  {
   "cell_type": "code",
   "execution_count": null,
   "id": "9fabffc8",
   "metadata": {},
   "outputs": [],
   "source": [
    "classR=classification_report(y_pred,y_test)\n",
    "print(\"classification report: \",classR)"
   ]
  }
 ],
 "metadata": {
  "kernelspec": {
   "display_name": "tf-env",
   "language": "python",
   "name": "python3"
  },
  "language_info": {
   "codemirror_mode": {
    "name": "ipython",
    "version": 3
   },
   "file_extension": ".py",
   "mimetype": "text/x-python",
   "name": "python",
   "nbconvert_exporter": "python",
   "pygments_lexer": "ipython3",
   "version": "3.11.9"
  }
 },
 "nbformat": 4,
 "nbformat_minor": 5
}
