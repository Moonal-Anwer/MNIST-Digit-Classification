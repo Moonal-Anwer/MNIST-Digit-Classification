{
 "cells": [
  {
   "cell_type": "code",
   "execution_count": 1,
   "id": "370a7406",
   "metadata": {},
   "outputs": [],
   "source": [
    "# libraries\n",
    "import numpy as np\n",
    "from tensorflow import keras\n",
    "from sklearn import preprocessing\n",
    "import seaborn as sns\n",
    "import pandas as pd"
   ]
  },
  {
   "cell_type": "code",
   "execution_count": 2,
   "id": "6a2e1878",
   "metadata": {},
   "outputs": [],
   "source": [
    "# loading data\n",
    "# split it between train and test sets\n",
    "(x_train, y_train), (x_test, y_test) = keras.datasets.mnist.load_data()"
   ]
  },
  {
   "cell_type": "code",
   "execution_count": 3,
   "id": "3b7a504c",
   "metadata": {},
   "outputs": [
    {
     "name": "stdout",
     "output_type": "stream",
     "text": [
      "x_train shape: (60000, 784)\n",
      "60000 train samples\n",
      "10000 test samples\n"
     ]
    }
   ],
   "source": [
    "# Scale images to the [0, 1] range\n",
    "x_train = x_train / 255.0\n",
    "x_test = x_test / 255.0\n",
    "# Make sure images have shape (784)\n",
    "x_train = x_train.reshape(60000,-1)\n",
    "x_test = x_test.reshape(10000,-1)\n",
    "print(\"x_train shape:\", x_train.shape)\n",
    "print(x_train.shape[0], \"train samples\")\n",
    "print(x_test.shape[0], \"test samples\")"
   ]
  },
  {
   "cell_type": "code",
   "execution_count": 4,
   "id": "59b47731",
   "metadata": {},
   "outputs": [],
   "source": [
    "# One-Hot Encoding\n",
    "from tensorflow.keras.utils import to_categorical\n",
    "y_train = to_categorical(y_train, 10)\n",
    "y_test = to_categorical(y_test, 10)"
   ]
  },
  {
   "cell_type": "code",
   "execution_count": 5,
   "id": "8f2fd541",
   "metadata": {},
   "outputs": [],
   "source": [
    "from sklearn.ensemble import RandomForestClassifier"
   ]
  },
  {
   "cell_type": "code",
   "execution_count": 9,
   "id": "caeb6af1",
   "metadata": {},
   "outputs": [
    {
     "name": "stdout",
     "output_type": "stream",
     "text": [
      "accuracy score is 0.90\n"
     ]
    }
   ],
   "source": [
    "# default without tuning \n",
    "from sklearn.metrics import accuracy_score\n",
    "rf_model0=RandomForestClassifier(n_estimators=100,random_state=42)\n",
    "rf_model0.fit(x_train,y_train)\n",
    "\n",
    "\n",
    "y_pred=rf_model0.predict(x_test)\n",
    "\n",
    "score0= accuracy_score(y_pred,y_test)\n",
    "print(f\"accuracy score is {score0:.2f}\")"
   ]
  },
  {
   "cell_type": "code",
   "execution_count": 6,
   "id": "c9e1e8ae",
   "metadata": {},
   "outputs": [
    {
     "name": "stdout",
     "output_type": "stream",
     "text": [
      "Fitting 5 folds for each of 20 candidates, totalling 100 fits\n",
      "[CV] END bootstrap=True, criterion=gini, max_depth=7, max_features=sqrt, min_samples_leaf=2, n_estimators=300; total time= 1.6min\n",
      "[CV] END bootstrap=True, criterion=gini, max_depth=7, max_features=sqrt, min_samples_leaf=2, n_estimators=300; total time= 1.7min\n",
      "[CV] END bootstrap=True, criterion=gini, max_depth=7, max_features=sqrt, min_samples_leaf=2, n_estimators=300; total time= 1.8min\n",
      "[CV] END bootstrap=True, criterion=gini, max_depth=7, max_features=sqrt, min_samples_leaf=2, n_estimators=300; total time= 1.9min\n",
      "[CV] END bootstrap=True, criterion=gini, max_depth=7, max_features=sqrt, min_samples_leaf=2, n_estimators=300; total time= 2.2min\n",
      "[CV] END bootstrap=False, criterion=gini, max_depth=20, max_features=sqrt, min_samples_leaf=4, n_estimators=200; total time= 3.6min\n",
      "[CV] END bootstrap=False, criterion=gini, max_depth=20, max_features=sqrt, min_samples_leaf=4, n_estimators=200; total time= 3.6min\n",
      "[CV] END bootstrap=False, criterion=gini, max_depth=20, max_features=sqrt, min_samples_leaf=4, n_estimators=200; total time= 3.6min\n",
      "[CV] END bootstrap=False, criterion=gini, max_depth=20, max_features=sqrt, min_samples_leaf=4, n_estimators=200; total time= 3.2min\n",
      "[CV] END bootstrap=False, criterion=gini, max_depth=20, max_features=sqrt, min_samples_leaf=4, n_estimators=200; total time= 3.3min\n",
      "[CV] END bootstrap=False, criterion=log_loss, max_depth=7, max_features=None, min_samples_leaf=4, n_estimators=100; total time=27.0min\n",
      "[CV] END bootstrap=False, criterion=log_loss, max_depth=7, max_features=None, min_samples_leaf=4, n_estimators=100; total time=26.7min\n",
      "[CV] END bootstrap=False, criterion=log_loss, max_depth=7, max_features=None, min_samples_leaf=4, n_estimators=100; total time=36.1min\n",
      "[CV] END bootstrap=False, criterion=log_loss, max_depth=7, max_features=None, min_samples_leaf=4, n_estimators=100; total time=45.8min\n",
      "[CV] END bootstrap=False, criterion=log_loss, max_depth=7, max_features=None, min_samples_leaf=4, n_estimators=100; total time=24.0min\n",
      "[CV] END bootstrap=False, criterion=gini, max_depth=7, max_features=log2, min_samples_leaf=1, n_estimators=100; total time=  22.0s\n",
      "[CV] END bootstrap=False, criterion=gini, max_depth=7, max_features=log2, min_samples_leaf=1, n_estimators=100; total time=  18.9s\n",
      "[CV] END bootstrap=False, criterion=gini, max_depth=7, max_features=log2, min_samples_leaf=1, n_estimators=100; total time=  17.8s\n",
      "[CV] END bootstrap=False, criterion=gini, max_depth=7, max_features=log2, min_samples_leaf=1, n_estimators=100; total time=  18.0s\n",
      "[CV] END bootstrap=False, criterion=gini, max_depth=7, max_features=log2, min_samples_leaf=1, n_estimators=100; total time= 2.0min\n",
      "[CV] END bootstrap=False, criterion=entropy, max_depth=10, max_features=sqrt, min_samples_leaf=4, n_estimators=300; total time= 4.3min\n",
      "[CV] END bootstrap=False, criterion=entropy, max_depth=10, max_features=sqrt, min_samples_leaf=4, n_estimators=300; total time= 4.1min\n",
      "[CV] END bootstrap=False, criterion=entropy, max_depth=10, max_features=sqrt, min_samples_leaf=4, n_estimators=300; total time= 4.3min\n",
      "[CV] END bootstrap=False, criterion=entropy, max_depth=10, max_features=sqrt, min_samples_leaf=4, n_estimators=300; total time= 4.2min\n",
      "[CV] END bootstrap=False, criterion=entropy, max_depth=10, max_features=sqrt, min_samples_leaf=4, n_estimators=300; total time= 4.2min\n",
      "[CV] END bootstrap=False, criterion=entropy, max_depth=5, max_features=log2, min_samples_leaf=4, n_estimators=200; total time=  31.7s\n",
      "[CV] END bootstrap=False, criterion=entropy, max_depth=5, max_features=log2, min_samples_leaf=4, n_estimators=200; total time=  33.4s\n",
      "[CV] END bootstrap=False, criterion=entropy, max_depth=5, max_features=log2, min_samples_leaf=4, n_estimators=200; total time=  31.2s\n",
      "[CV] END bootstrap=False, criterion=entropy, max_depth=5, max_features=log2, min_samples_leaf=4, n_estimators=200; total time=  32.4s\n",
      "[CV] END bootstrap=False, criterion=entropy, max_depth=5, max_features=log2, min_samples_leaf=4, n_estimators=200; total time=  31.5s\n",
      "[CV] END bootstrap=True, criterion=gini, max_depth=5, max_features=log2, min_samples_leaf=2, n_estimators=200; total time=  19.3s\n",
      "[CV] END bootstrap=True, criterion=gini, max_depth=5, max_features=log2, min_samples_leaf=2, n_estimators=200; total time=  19.5s\n",
      "[CV] END bootstrap=True, criterion=gini, max_depth=5, max_features=log2, min_samples_leaf=2, n_estimators=200; total time=  19.7s\n",
      "[CV] END bootstrap=True, criterion=gini, max_depth=5, max_features=log2, min_samples_leaf=2, n_estimators=200; total time=  19.5s\n",
      "[CV] END bootstrap=True, criterion=gini, max_depth=5, max_features=log2, min_samples_leaf=2, n_estimators=200; total time=  19.5s\n",
      "[CV] END bootstrap=False, criterion=gini, max_depth=20, max_features=None, min_samples_leaf=4, n_estimators=200; total time=91.9min\n",
      "[CV] END bootstrap=False, criterion=gini, max_depth=20, max_features=None, min_samples_leaf=4, n_estimators=200; total time=138.6min\n",
      "[CV] END bootstrap=False, criterion=gini, max_depth=20, max_features=None, min_samples_leaf=4, n_estimators=200; total time=76.4min\n",
      "[CV] END bootstrap=False, criterion=gini, max_depth=20, max_features=None, min_samples_leaf=4, n_estimators=200; total time=103.3min\n",
      "[CV] END bootstrap=False, criterion=gini, max_depth=20, max_features=None, min_samples_leaf=4, n_estimators=200; total time=96.0min\n",
      "[CV] END bootstrap=True, criterion=entropy, max_depth=10, max_features=sqrt, min_samples_leaf=1, n_estimators=200; total time= 2.3min\n",
      "[CV] END bootstrap=True, criterion=entropy, max_depth=10, max_features=sqrt, min_samples_leaf=1, n_estimators=200; total time= 2.2min\n",
      "[CV] END bootstrap=True, criterion=entropy, max_depth=10, max_features=sqrt, min_samples_leaf=1, n_estimators=200; total time= 2.3min\n",
      "[CV] END bootstrap=True, criterion=entropy, max_depth=10, max_features=sqrt, min_samples_leaf=1, n_estimators=200; total time= 2.2min\n",
      "[CV] END bootstrap=True, criterion=entropy, max_depth=10, max_features=sqrt, min_samples_leaf=1, n_estimators=200; total time= 2.2min\n",
      "[CV] END bootstrap=False, criterion=log_loss, max_depth=5, max_features=sqrt, min_samples_leaf=2, n_estimators=300; total time= 2.1min\n",
      "[CV] END bootstrap=False, criterion=log_loss, max_depth=5, max_features=sqrt, min_samples_leaf=2, n_estimators=300; total time= 2.0min\n",
      "[CV] END bootstrap=False, criterion=log_loss, max_depth=5, max_features=sqrt, min_samples_leaf=2, n_estimators=300; total time= 2.0min\n",
      "[CV] END bootstrap=False, criterion=log_loss, max_depth=5, max_features=sqrt, min_samples_leaf=2, n_estimators=300; total time= 2.2min\n",
      "[CV] END bootstrap=False, criterion=log_loss, max_depth=5, max_features=sqrt, min_samples_leaf=2, n_estimators=300; total time= 2.6min\n",
      "[CV] END bootstrap=True, criterion=log_loss, max_depth=5, max_features=None, min_samples_leaf=4, n_estimators=300; total time=31.5min\n",
      "[CV] END bootstrap=True, criterion=log_loss, max_depth=5, max_features=None, min_samples_leaf=4, n_estimators=300; total time=29.9min\n",
      "[CV] END bootstrap=True, criterion=log_loss, max_depth=5, max_features=None, min_samples_leaf=4, n_estimators=300; total time=31.2min\n",
      "[CV] END bootstrap=True, criterion=log_loss, max_depth=5, max_features=None, min_samples_leaf=4, n_estimators=300; total time=29.9min\n",
      "[CV] END bootstrap=True, criterion=log_loss, max_depth=5, max_features=None, min_samples_leaf=4, n_estimators=300; total time=29.5min\n",
      "[CV] END bootstrap=True, criterion=gini, max_depth=5, max_features=None, min_samples_leaf=4, n_estimators=100; total time= 7.7min\n",
      "[CV] END bootstrap=True, criterion=gini, max_depth=5, max_features=None, min_samples_leaf=4, n_estimators=100; total time= 7.7min\n",
      "[CV] END bootstrap=True, criterion=gini, max_depth=5, max_features=None, min_samples_leaf=4, n_estimators=100; total time= 7.8min\n",
      "[CV] END bootstrap=True, criterion=gini, max_depth=5, max_features=None, min_samples_leaf=4, n_estimators=100; total time= 7.7min\n",
      "[CV] END bootstrap=True, criterion=gini, max_depth=5, max_features=None, min_samples_leaf=4, n_estimators=100; total time= 7.7min\n",
      "[CV] END bootstrap=True, criterion=entropy, max_depth=7, max_features=sqrt, min_samples_leaf=1, n_estimators=200; total time= 1.3min\n",
      "[CV] END bootstrap=True, criterion=entropy, max_depth=7, max_features=sqrt, min_samples_leaf=1, n_estimators=200; total time= 1.3min\n",
      "[CV] END bootstrap=True, criterion=entropy, max_depth=7, max_features=sqrt, min_samples_leaf=1, n_estimators=200; total time= 1.3min\n",
      "[CV] END bootstrap=True, criterion=entropy, max_depth=7, max_features=sqrt, min_samples_leaf=1, n_estimators=200; total time= 1.3min\n",
      "[CV] END bootstrap=True, criterion=entropy, max_depth=7, max_features=sqrt, min_samples_leaf=1, n_estimators=200; total time= 1.3min\n",
      "[CV] END bootstrap=False, criterion=log_loss, max_depth=10, max_features=None, min_samples_leaf=4, n_estimators=100; total time=32.7min\n",
      "[CV] END bootstrap=False, criterion=log_loss, max_depth=10, max_features=None, min_samples_leaf=4, n_estimators=100; total time=33.1min\n",
      "[CV] END bootstrap=False, criterion=log_loss, max_depth=10, max_features=None, min_samples_leaf=4, n_estimators=100; total time=32.8min\n",
      "[CV] END bootstrap=False, criterion=log_loss, max_depth=10, max_features=None, min_samples_leaf=4, n_estimators=100; total time=32.4min\n",
      "[CV] END bootstrap=False, criterion=log_loss, max_depth=10, max_features=None, min_samples_leaf=4, n_estimators=100; total time=33.2min\n",
      "[CV] END bootstrap=False, criterion=entropy, max_depth=5, max_features=None, min_samples_leaf=2, n_estimators=300; total time=45.6min\n",
      "[CV] END bootstrap=False, criterion=entropy, max_depth=5, max_features=None, min_samples_leaf=2, n_estimators=300; total time=45.1min\n",
      "[CV] END bootstrap=False, criterion=entropy, max_depth=5, max_features=None, min_samples_leaf=2, n_estimators=300; total time=45.6min\n",
      "[CV] END bootstrap=False, criterion=entropy, max_depth=5, max_features=None, min_samples_leaf=2, n_estimators=300; total time=46.2min\n",
      "[CV] END bootstrap=False, criterion=entropy, max_depth=5, max_features=None, min_samples_leaf=2, n_estimators=300; total time=47.0min\n",
      "[CV] END bootstrap=True, criterion=gini, max_depth=5, max_features=sqrt, min_samples_leaf=2, n_estimators=200; total time=  49.7s\n",
      "[CV] END bootstrap=True, criterion=gini, max_depth=5, max_features=sqrt, min_samples_leaf=2, n_estimators=200; total time=  45.3s\n",
      "[CV] END bootstrap=True, criterion=gini, max_depth=5, max_features=sqrt, min_samples_leaf=2, n_estimators=200; total time=  44.4s\n",
      "[CV] END bootstrap=True, criterion=gini, max_depth=5, max_features=sqrt, min_samples_leaf=2, n_estimators=200; total time=  44.0s\n",
      "[CV] END bootstrap=True, criterion=gini, max_depth=5, max_features=sqrt, min_samples_leaf=2, n_estimators=200; total time=  48.6s\n",
      "[CV] END bootstrap=True, criterion=log_loss, max_depth=10, max_features=log2, min_samples_leaf=1, n_estimators=200; total time=  47.1s\n",
      "[CV] END bootstrap=True, criterion=log_loss, max_depth=10, max_features=log2, min_samples_leaf=1, n_estimators=200; total time=  46.5s\n",
      "[CV] END bootstrap=True, criterion=log_loss, max_depth=10, max_features=log2, min_samples_leaf=1, n_estimators=200; total time=  45.4s\n",
      "[CV] END bootstrap=True, criterion=log_loss, max_depth=10, max_features=log2, min_samples_leaf=1, n_estimators=200; total time=  46.9s\n",
      "[CV] END bootstrap=True, criterion=log_loss, max_depth=10, max_features=log2, min_samples_leaf=1, n_estimators=200; total time=  46.3s\n",
      "[CV] END bootstrap=False, criterion=entropy, max_depth=5, max_features=log2, min_samples_leaf=2, n_estimators=100; total time=  15.9s\n",
      "[CV] END bootstrap=False, criterion=entropy, max_depth=5, max_features=log2, min_samples_leaf=2, n_estimators=100; total time=  16.1s\n",
      "[CV] END bootstrap=False, criterion=entropy, max_depth=5, max_features=log2, min_samples_leaf=2, n_estimators=100; total time=  17.9s\n",
      "[CV] END bootstrap=False, criterion=entropy, max_depth=5, max_features=log2, min_samples_leaf=2, n_estimators=100; total time=  16.0s\n",
      "[CV] END bootstrap=False, criterion=entropy, max_depth=5, max_features=log2, min_samples_leaf=2, n_estimators=100; total time=  16.1s\n",
      "[CV] END bootstrap=False, criterion=entropy, max_depth=20, max_features=sqrt, min_samples_leaf=4, n_estimators=300; total time= 5.6min\n",
      "[CV] END bootstrap=False, criterion=entropy, max_depth=20, max_features=sqrt, min_samples_leaf=4, n_estimators=300; total time= 5.6min\n",
      "[CV] END bootstrap=False, criterion=entropy, max_depth=20, max_features=sqrt, min_samples_leaf=4, n_estimators=300; total time= 5.6min\n",
      "[CV] END bootstrap=False, criterion=entropy, max_depth=20, max_features=sqrt, min_samples_leaf=4, n_estimators=300; total time= 5.8min\n",
      "[CV] END bootstrap=False, criterion=entropy, max_depth=20, max_features=sqrt, min_samples_leaf=4, n_estimators=300; total time= 5.8min\n",
      "[CV] END bootstrap=False, criterion=entropy, max_depth=7, max_features=log2, min_samples_leaf=4, n_estimators=300; total time= 1.1min\n",
      "[CV] END bootstrap=False, criterion=entropy, max_depth=7, max_features=log2, min_samples_leaf=4, n_estimators=300; total time= 1.1min\n",
      "[CV] END bootstrap=False, criterion=entropy, max_depth=7, max_features=log2, min_samples_leaf=4, n_estimators=300; total time= 1.4min\n",
      "[CV] END bootstrap=False, criterion=entropy, max_depth=7, max_features=log2, min_samples_leaf=4, n_estimators=300; total time= 1.3min\n",
      "[CV] END bootstrap=False, criterion=entropy, max_depth=7, max_features=log2, min_samples_leaf=4, n_estimators=300; total time= 1.4min\n",
      "best parameters :  {'n_estimators': 300, 'min_samples_leaf': 4, 'max_features': 'sqrt', 'max_depth': 20, 'criterion': 'entropy', 'bootstrap': False}\n",
      "best accuracy:  0.9006000000000002\n"
     ]
    }
   ],
   "source": [
    "# Hyper-parameters tuning\n",
    "\n",
    "from sklearn.model_selection import RandomizedSearchCV\n",
    "\n",
    "param_grid={\n",
    "    'n_estimators':[100,200,300],\n",
    "    'criterion':[\"gini\",\"entropy\",\"log_loss\"],\n",
    "    'min_samples_leaf':[1,2,4],\n",
    "    'max_depth':[5,7,10,20],\n",
    "    'max_features':[\"sqrt\",\"log2\",None],\n",
    "    'bootstrap':[True,False]\n",
    "    \n",
    "}\n",
    "rf_model=RandomForestClassifier(random_state=42)\n",
    "\n",
    "grid_search = RandomizedSearchCV(rf_model, param_grid,cv=5,scoring=\"accuracy\",n_iter=20,n_jobs=1,verbose=2)\n",
    "grid_search.fit(x_train,y_train)\n",
    "best_rf=grid_search.best_estimator_\n",
    "\n",
    "print(\"best parameters : \",grid_search.best_params_)\n",
    "print(\"best accuracy: \", grid_search.best_score_)"
   ]
  },
  {
   "cell_type": "code",
   "execution_count": 7,
   "id": "8917d058",
   "metadata": {},
   "outputs": [],
   "source": [
    "# evaluation \n",
    "from sklearn.metrics import precision_score , confusion_matrix, classification_report\n",
    "import seaborn as sns\n",
    "import matplotlib.pyplot as plt"
   ]
  },
  {
   "cell_type": "code",
   "execution_count": 10,
   "id": "7294c146",
   "metadata": {},
   "outputs": [],
   "source": [
    "rf_model1=RandomForestClassifier(n_estimators=300,min_samples_leaf=4,max_features='sqrt',max_depth=20,criterion='entropy',bootstrap=False,random_state=42)\n",
    "rf_model1.fit(x_train,y_train)\n",
    "y_pred1=rf_model1.predict(x_test)"
   ]
  },
  {
   "cell_type": "code",
   "execution_count": 14,
   "id": "92ccfdc7",
   "metadata": {},
   "outputs": [
    {
     "name": "stdout",
     "output_type": "stream",
     "text": [
      "precision score is 0.99\n"
     ]
    }
   ],
   "source": [
    "precision = precision_score(y_test, y_pred1, average='weighted')  \n",
    "print(f\"precision score is {precision:.2f}\")"
   ]
  },
  {
   "cell_type": "code",
   "execution_count": 18,
   "id": "12020222",
   "metadata": {},
   "outputs": [
    {
     "data": {
      "image/png": "[encoded data removed]",
      "text/plain": [
       "<Figure size 640x480 with 2 Axes>"
      ]
     },
     "metadata": {},
     "output_type": "display_data"
    }
   ],
   "source": [
    "import numpy as np\n",
    "\n",
    "y_test1 = np.argmax(y_test, axis=1)\n",
    "\n",
    "y_pred1_ = np.argmax(y_pred1, axis=1)\n",
    "\n",
    "confusionMatrix=confusion_matrix(y_pred1_,y_test1)\n",
    "sns.heatmap(confusionMatrix,cmap='Blues')\n",
    "plt.xlabel(\"predicted\")\n",
    "plt.ylabel(\"actual\")\n",
    "plt.title(\"confusion matrix\")\n",
    "plt.show()"
   ]
  },
  {
   "cell_type": "code",
   "execution_count": 20,
   "id": "b07a8207",
   "metadata": {},
   "outputs": [
    {
     "name": "stdout",
     "output_type": "stream",
     "text": [
      "              precision    recall  f1-score   support\n",
      "\n",
      "           0       0.97      0.99      0.98       960\n",
      "           1       0.98      1.00      0.99      1116\n",
      "           2       0.91      0.99      0.95       946\n",
      "           3       0.89      1.00      0.94       899\n",
      "           4       0.89      0.99      0.94       883\n",
      "           5       0.87      1.00      0.93       775\n",
      "           6       0.94      0.99      0.97       906\n",
      "           7       0.91      0.99      0.95       947\n",
      "           8       0.86      0.99      0.92       848\n",
      "           9       0.89      0.99      0.94       907\n",
      "\n",
      "   micro avg       0.91      0.99      0.95      9187\n",
      "   macro avg       0.91      0.99      0.95      9187\n",
      "weighted avg       0.91      0.99      0.95      9187\n",
      " samples avg       0.91      0.91      0.91      9187\n",
      "\n"
     ]
    },
    {
     "name": "stderr",
     "output_type": "stream",
     "text": [
      "c:\\Users\\MNIST_Digit_Classification\\tf-env\\Lib\\site-packages\\sklearn\\metrics\\_classification.py:1706: UndefinedMetricWarning: Recall is ill-defined and being set to 0.0 in samples with no true labels. Use `zero_division` parameter to control this behavior.\n",
      "  _warn_prf(average, modifier, f\"{metric.capitalize()} is\", result.shape[0])\n"
     ]
    }
   ],
   "source": [
    "classR=classification_report(y_pred1,y_test)\n",
    "print(classR)"
   ]
  }
 ],
 "metadata": {
  "kernelspec": {
   "display_name": "tf-env",
   "language": "python",
   "name": "python3"
  },
  "language_info": {
   "codemirror_mode": {
    "name": "ipython",
    "version": 3
   },
   "file_extension": ".py",
   "mimetype": "text/x-python",
   "name": "python",
   "nbconvert_exporter": "python",
   "pygments_lexer": "ipython3",
   "version": "3.11.9"
  }
 },
 "nbformat": 4,
 "nbformat_minor": 5
}
